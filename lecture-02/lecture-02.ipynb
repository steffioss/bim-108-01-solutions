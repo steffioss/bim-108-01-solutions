{
 "cells": [
  {
   "cell_type": "markdown",
   "metadata": {
    "deletable": false
   },
   "source": [
    "# XML: Fortgeschrittene Themen"
   ]
  },
  {
   "cell_type": "markdown",
   "metadata": {
    "deletable": false
   },
   "source": [
    "In der Vorlesung haben wir einige fortgeschrittene Themen behandelt, wie XML Baumstruktur, Vokabularien mit XML, und XML Programmierung. Hier werden wir diese Themen etwas in der Praxis anschauen."
   ]
  },
  {
   "cell_type": "markdown",
   "metadata": {
    "deletable": false
   },
   "source": [
    "## XML Baumstruktur\n",
    "\n",
    "Da jedes XML Dokument genau ein Wurzelelement (*root element*) hat und Kindelement (*child elements*) entsprechend verschachtelt, kann jedes (wohlgeformte) XML Dokument als Baum dargestellt werden. Probieren Sie dies in dieser Übung. Die Funktion `print_tree` wird Ihnen dabei helfen. Schauen Sie sich das folgende XML Dokument an und schreiben Sie dann Ihr eigenes. Wie verändert sich das Verhalten der `print_tree` Funktion wenn die beiden kommentierten Zeilen ausgeführt werden?"
   ]
  },
  {
   "cell_type": "code",
   "execution_count": null,
   "metadata": {
    "collapsed": true,
    "deletable": false
   },
   "outputs": [],
   "source": [
    "def print_tree(xml):\n",
    "    level = 0\n",
    "    context = et.iterwalk(xml, events=('start', 'end'))\n",
    "    for event, element in context:\n",
    "        if event == 'start':\n",
    "            print('{}> {}'.format('  ' * level, element.tag))\n",
    "#            if not len(element):\n",
    "#                print('{}> {}'.format('  ' * (level + 1), element.text))\n",
    "            level = level + 1\n",
    "        if event == 'end':\n",
    "            level = level - 1"
   ]
  },
  {
   "cell_type": "code",
   "execution_count": null,
   "metadata": {
    "collapsed": true,
    "deletable": false
   },
   "outputs": [],
   "source": [
    "from lxml import etree as et\n",
    "\n",
    "doc = \"\"\"<discography><albums>\n",
    "<album><title>The Dark Side of the Moon</title><released>16 March 1973</released></album>\n",
    "<album><title>The Wall</title><released>30 November 1979</released></album>\n",
    "</albums></discography>\n",
    "\"\"\"\n",
    "\n",
    "print_tree(et.fromstring(doc))"
   ]
  },
  {
   "cell_type": "code",
   "execution_count": null,
   "metadata": {
    "deletable": false
   },
   "outputs": [],
   "source": [
    "from lxml import etree as et\n",
    "\n",
    "# My XML document ...\n",
    "doc = \"\"\"\n",
    "\"\"\"\n",
    "\n",
    "print_tree(et.fromstring(doc))"
   ]
  },
  {
   "cell_type": "markdown",
   "metadata": {
    "deletable": false
   },
   "source": [
    "## Vokabularien in XML\n",
    "\n",
    "Spannen Sie mit Ihrem Nachbarn zusammen und legen Sie sich auf ein Themenbereich fest, z.B. Adressen, Bücher, oder Personen. Überlegen Sie sich dann einzeln ein XML Vokabular für den gewählten Themenbereich. Welche Elemente benötigt man um den Themenbereich zu beschreiben? \n",
    "\n",
    "Im folgenden Block schreiben Sie dann ein beispielhaftes XML Dokument. Diskutieren Sie danach mit Ihrem Nachbarn Ihr gewähltes Vokabular und das Beispiel. Bestimmt gibt es Unterschiede! Haben die beiden erstellten Vokabulare unterschiedliche Terme? Wurden diese als *Tag* oder *Attribut* modelliert? \n",
    "\n",
    "Diskutieren Sie mit Ihrem Nachbarn die Vor- und Nachteile der Vokabularien und versuchen Sie sich zu einigen.\n",
    "\n",
    "**Hinweis:** Die Übung können Sie auch von zuhause ausführen, indem Sie mit Kommiliton*innen über Email kommunizieren. Arbeitskollegen sitzen nicht immer im gleichen Raum!"
   ]
  },
  {
   "cell_type": "markdown",
   "metadata": {
    "deletable": false
   },
   "source": [
    "**My vocabulary for ...**\n",
    "\n",
    "<...>\n",
    "\n",
    "</...>"
   ]
  },
  {
   "cell_type": "markdown",
   "metadata": {
    "deletable": false
   },
   "source": [
    "## XML in der Programmierung\n",
    "\n",
    "XML Daten können programmatisch aus den verschiedesten Sourcen gelesen werden. String Variablen hatten wir in den Übungen schon mehrmals. XML Daten können selbstverständlich auch aus Dateien oder dem Internet gelesen werden. Das folgende Beispiel liest die `example.xml` Datei welche im gleichen Verzeichnis wie dieses Notebook liegt."
   ]
  },
  {
   "cell_type": "code",
   "execution_count": null,
   "metadata": {
    "collapsed": true,
    "deletable": false
   },
   "outputs": [],
   "source": [
    "from lxml import etree as et\n",
    "\n",
    "doc = et.parse('example.xml')\n",
    "\n",
    "print(et.tostring(doc, pretty_print=True).decode('utf-8'))"
   ]
  },
  {
   "cell_type": "markdown",
   "metadata": {
    "deletable": false
   },
   "source": [
    "In der Vorlesung haben wir gesehen wie man XML auch programmatisch schreiben kann. Probieren Sie es hier aus indem Sie das Beispiel entsprechend dem vorherigen XML Dokument vervollständigen."
   ]
  },
  {
   "cell_type": "code",
   "execution_count": null,
   "metadata": {
    "collapsed": true,
    "deletable": false
   },
   "outputs": [],
   "source": [
    "from lxml import etree as et\n",
    "\n",
    "discography = et.Element('discography')\n",
    "albums = et.SubElement(discography, 'albums')\n",
    "album_1 = et.SubElement(albums, 'album')\n",
    "album_1_title = et.SubElement(album_1, 'title')\n",
    "album_1_title.text = 'The Dark Side of the Moon'\n",
    "album_1_released = et.SubElement(album_1, 'released')\n",
    "album_1_released.set('day', '16')\n",
    "\n",
    "# Complete the example to match the previous XML document\n",
    "\n",
    "print(et.tostring(discography, pretty_print=True).decode('utf-8'))"
   ]
  },
  {
   "cell_type": "markdown",
   "metadata": {
    "deletable": false
   },
   "source": [
    "Schreiben Sie ihre discographie in eine Datei. Benennen Sie diese `discography.xml`. \n",
    "\n",
    "Schauen Sie im Verzeichnis nach ob die Datei korrekt gespeichert wurde."
   ]
  },
  {
   "cell_type": "code",
   "execution_count": null,
   "metadata": {
    "collapsed": true,
    "deletable": false
   },
   "outputs": [],
   "source": [
    "from lxml import etree as et\n",
    "\n",
    "t = et.ElementTree(discography)\n",
    "# Edit the file name accordingly\n",
    "t.write(file='...', pretty_print=True)"
   ]
  },
  {
   "cell_type": "markdown",
   "metadata": {
    "deletable": false
   },
   "source": [
    "Im nächsten Beispiel travesieren wir unser XML Dokument rekursiv indem die gefundenen Element expandiert werden."
   ]
  },
  {
   "cell_type": "code",
   "execution_count": null,
   "metadata": {
    "collapsed": true,
    "deletable": false
   },
   "outputs": [],
   "source": [
    "def expand(element):\n",
    "    for child in element:\n",
    "        if len(child) or child.text == None:\n",
    "            print('{}'.format(child.tag))\n",
    "        else:\n",
    "            print('{}: {}'.format(child.tag, child.text))\n",
    "        expand(child)\n",
    "        \n",
    "expand(discography)"
   ]
  },
  {
   "cell_type": "markdown",
   "metadata": {
    "deletable": false
   },
   "source": [
    "Das letzte Beispiel liest nun ein XML Dokument von einem Web Service und sucht nach einem bestimmten Element, wobei der Textinhalt ausgeschrieben wird. Dies ist die DOI `10.1594/PANGAEA.858171`.\n",
    "\n",
    "Was geschieht in diesem Programmcode eigentlich? Benutzen Sie `print()` um das XML Dokument anzuschauen.\n",
    "\n",
    "Was ist eine DOI? Fragen Sie Ihren Nachbarn oder suchen Sie im Internet danach.\n",
    "\n",
    "Was ist [PANGAEA](https://pangaea.de)? Suchen Sie nach der DOI in PANGAEA. Was erhalten Sie?\n",
    "\n",
    "Bilden Sie die `url` so, dass Sie diese in einem Browser ausführen können. Was erhalten Sie? Schauen Sie sich auch den `source` der Seite an."
   ]
  },
  {
   "cell_type": "code",
   "execution_count": null,
   "metadata": {
    "deletable": false
   },
   "outputs": [],
   "source": [
    "import requests\n",
    "from lxml import etree as et\n",
    "\n",
    "url = '{}?verb={}&metadataPrefix={}&identifier={}'.format(\n",
    "    'http://ws.pangaea.de/oai/provider',\n",
    "    'GetRecord', \n",
    "    'datacite3', \n",
    "    'oai:pangaea.de:doi:10.1594/PANGAEA.858171'\n",
    ")\n",
    "    \n",
    "r = requests.get(url)\n",
    "\n",
    "x = et.XML(bytes(bytearray(r.text, 'utf-8')))\n",
    "\n",
    "# print(et.tostring(x, pretty_print=True).decode('utf-8'))\n",
    "\n",
    "# Was ist eine DOI? Antwort: \n",
    "\n",
    "# Was ist PANGAEA? Antwort:\n",
    "\n",
    "print(x.find('.//{http://datacite.org/schema/kernel-3}identifier[@identifierType=\"DOI\"]').text)"
   ]
  }
 ],
 "metadata": {
  "kernelspec": {
   "display_name": "Python 3",
   "language": "python",
   "name": "python3"
  },
  "language_info": {
   "codemirror_mode": {
    "name": "ipython",
    "version": 3
   },
   "file_extension": ".py",
   "mimetype": "text/x-python",
   "name": "python",
   "nbconvert_exporter": "python",
   "pygments_lexer": "ipython3",
   "version": "3.6.3"
  }
 },
 "nbformat": 4,
 "nbformat_minor": 2
}
